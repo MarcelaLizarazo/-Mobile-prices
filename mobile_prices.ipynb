{
 "cells": [
  {
   "cell_type": "markdown",
   "id": "541c4f5a",
   "metadata": {},
   "source": [
    "Student: Diana Marcela Lizarazo Caicedo Code: 855963\n",
    "\n",
    "# Final Project - BDM 2053-Big Data Algorithms and Statistics\n",
    "\n",
    "### Table of Contents:\n",
    "1. Introduction\n",
    "2. Data\n",
    "3. Exploratory Data Analysis (EDA)\n",
    "4. Feature Engineering\n",
    "5. Training and Evaluating Models\n",
    "    1. Dimensional Reduction (PCA)\n",
    "6. Conclusion\n",
    "\n",
    "## 1. Introduction\n",
    "\n",
    "This project is based on the Mobile prices dataset taken from Kaggle, this dataset contains several factors among which we find the brand, size, weight, image quality, RAM, battery, etc. that interfere in the sales price of a Mobile.  With this data set, I want to estimate a price range that indicates how high the price is in relation to the mentioned features. For these we will apply the logistic regression and KNeighbors Classifier models.\n",
    "\n",
    "## 2. Data \n",
    "\n",
    "This dataset contains all the information related to different characteristics that interfere with the prices of a Mobile, such as:\n",
    "\n",
    "- **battery_power:** Total energy a battery can store in one time measured in mAh\n",
    "- **blue:** Has bluetooth or not\n",
    "- **clock_speed:** speed at which microprocessor executes instructions\n",
    "- **dual_sim:** Has dual sim support or not\n",
    "- **fc:** Front Camera mega pixels\n",
    "- **four_g:** Has 4G or not\n",
    "- **int_memory:** Internal Memory in Gigabytes\n",
    "- **m_dep:** Mobile Depth in cm\n",
    "- **mobile_wt:** Weight of mobile phone\n",
    "- **n_cores:** Number of cores of processor\n",
    "- **pc:** Primary Camera mega pixels\n",
    "- **px_height:** Pixel Resolution Height\n",
    "- **px_width:** Pixel Resolution Width\n",
    "- **ram:** Random Access Memory in Mega Bytes\n",
    "- **sc_h:** Screen Height of mobile in cm\n",
    "- **sc_w:** Screen Width of mobile in cm\n",
    "- **talk_time:** longest time that a single battery charge will last when you are\n",
    "- **three_g:** Has 3G or not\n",
    "- **touch_screen:** Has touch screen or not\n",
    "- **wifi:** Has wifi or not\n",
    "- **price_range:** This is the target variable with value of 0(low cost), 1(medium cost), 2(high cost) and 3(very high cost)."
   ]
  },
  {
   "cell_type": "markdown",
   "id": "5ddf5b0d",
   "metadata": {},
   "source": [
    "**First I am going to import all the libraries that I will use in the project and open the dataset:**"
   ]
  },
  {
   "cell_type": "code",
   "execution_count": 59,
   "id": "06858c17",
   "metadata": {},
   "outputs": [],
   "source": [
    "import pandas as pd\n",
    "import matplotlib.pyplot as plt\n",
    "import seaborn as sns\n",
    "from sklearn.model_selection import train_test_split\n",
    "from sklearn.linear_model import LogisticRegression\n",
    "from sklearn.neighbors import KNeighborsClassifier\n",
    "from sklearn.metrics import classification_report\n",
    "from sklearn.metrics import confusion_matrix\n",
    "from sklearn.metrics import accuracy_score\n",
    "from sklearn.decomposition import PCA\n",
    "from sklearn.model_selection import GridSearchCV"
   ]
  },
  {
   "cell_type": "markdown",
   "id": "0f2c659b",
   "metadata": {},
   "source": [
    "# 3. Exploratory Data Analysis (EDA)"
   ]
  },
  {
   "cell_type": "code",
   "execution_count": 60,
   "id": "d35a612a",
   "metadata": {},
   "outputs": [
    {
     "data": {
      "text/html": [
       "<div>\n",
       "<style scoped>\n",
       "    .dataframe tbody tr th:only-of-type {\n",
       "        vertical-align: middle;\n",
       "    }\n",
       "\n",
       "    .dataframe tbody tr th {\n",
       "        vertical-align: top;\n",
       "    }\n",
       "\n",
       "    .dataframe thead th {\n",
       "        text-align: right;\n",
       "    }\n",
       "</style>\n",
       "<table border=\"1\" class=\"dataframe\">\n",
       "  <thead>\n",
       "    <tr style=\"text-align: right;\">\n",
       "      <th></th>\n",
       "      <th>battery_power</th>\n",
       "      <th>blue</th>\n",
       "      <th>clock_speed</th>\n",
       "      <th>dual_sim</th>\n",
       "      <th>fc</th>\n",
       "      <th>four_g</th>\n",
       "      <th>int_memory</th>\n",
       "      <th>m_dep</th>\n",
       "      <th>mobile_wt</th>\n",
       "      <th>n_cores</th>\n",
       "      <th>...</th>\n",
       "      <th>px_height</th>\n",
       "      <th>px_width</th>\n",
       "      <th>ram</th>\n",
       "      <th>sc_h</th>\n",
       "      <th>sc_w</th>\n",
       "      <th>talk_time</th>\n",
       "      <th>three_g</th>\n",
       "      <th>touch_screen</th>\n",
       "      <th>wifi</th>\n",
       "      <th>price_range</th>\n",
       "    </tr>\n",
       "  </thead>\n",
       "  <tbody>\n",
       "    <tr>\n",
       "      <th>0</th>\n",
       "      <td>842</td>\n",
       "      <td>0</td>\n",
       "      <td>2.2</td>\n",
       "      <td>0</td>\n",
       "      <td>1</td>\n",
       "      <td>0</td>\n",
       "      <td>7</td>\n",
       "      <td>0.6</td>\n",
       "      <td>188</td>\n",
       "      <td>2</td>\n",
       "      <td>...</td>\n",
       "      <td>20</td>\n",
       "      <td>756</td>\n",
       "      <td>2549</td>\n",
       "      <td>9</td>\n",
       "      <td>7</td>\n",
       "      <td>19</td>\n",
       "      <td>0</td>\n",
       "      <td>0</td>\n",
       "      <td>1</td>\n",
       "      <td>1</td>\n",
       "    </tr>\n",
       "    <tr>\n",
       "      <th>1</th>\n",
       "      <td>1021</td>\n",
       "      <td>1</td>\n",
       "      <td>0.5</td>\n",
       "      <td>1</td>\n",
       "      <td>0</td>\n",
       "      <td>1</td>\n",
       "      <td>53</td>\n",
       "      <td>0.7</td>\n",
       "      <td>136</td>\n",
       "      <td>3</td>\n",
       "      <td>...</td>\n",
       "      <td>905</td>\n",
       "      <td>1988</td>\n",
       "      <td>2631</td>\n",
       "      <td>17</td>\n",
       "      <td>3</td>\n",
       "      <td>7</td>\n",
       "      <td>1</td>\n",
       "      <td>1</td>\n",
       "      <td>0</td>\n",
       "      <td>2</td>\n",
       "    </tr>\n",
       "    <tr>\n",
       "      <th>2</th>\n",
       "      <td>563</td>\n",
       "      <td>1</td>\n",
       "      <td>0.5</td>\n",
       "      <td>1</td>\n",
       "      <td>2</td>\n",
       "      <td>1</td>\n",
       "      <td>41</td>\n",
       "      <td>0.9</td>\n",
       "      <td>145</td>\n",
       "      <td>5</td>\n",
       "      <td>...</td>\n",
       "      <td>1263</td>\n",
       "      <td>1716</td>\n",
       "      <td>2603</td>\n",
       "      <td>11</td>\n",
       "      <td>2</td>\n",
       "      <td>9</td>\n",
       "      <td>1</td>\n",
       "      <td>1</td>\n",
       "      <td>0</td>\n",
       "      <td>2</td>\n",
       "    </tr>\n",
       "    <tr>\n",
       "      <th>3</th>\n",
       "      <td>615</td>\n",
       "      <td>1</td>\n",
       "      <td>2.5</td>\n",
       "      <td>0</td>\n",
       "      <td>0</td>\n",
       "      <td>0</td>\n",
       "      <td>10</td>\n",
       "      <td>0.8</td>\n",
       "      <td>131</td>\n",
       "      <td>6</td>\n",
       "      <td>...</td>\n",
       "      <td>1216</td>\n",
       "      <td>1786</td>\n",
       "      <td>2769</td>\n",
       "      <td>16</td>\n",
       "      <td>8</td>\n",
       "      <td>11</td>\n",
       "      <td>1</td>\n",
       "      <td>0</td>\n",
       "      <td>0</td>\n",
       "      <td>2</td>\n",
       "    </tr>\n",
       "    <tr>\n",
       "      <th>4</th>\n",
       "      <td>1821</td>\n",
       "      <td>1</td>\n",
       "      <td>1.2</td>\n",
       "      <td>0</td>\n",
       "      <td>13</td>\n",
       "      <td>1</td>\n",
       "      <td>44</td>\n",
       "      <td>0.6</td>\n",
       "      <td>141</td>\n",
       "      <td>2</td>\n",
       "      <td>...</td>\n",
       "      <td>1208</td>\n",
       "      <td>1212</td>\n",
       "      <td>1411</td>\n",
       "      <td>8</td>\n",
       "      <td>2</td>\n",
       "      <td>15</td>\n",
       "      <td>1</td>\n",
       "      <td>1</td>\n",
       "      <td>0</td>\n",
       "      <td>1</td>\n",
       "    </tr>\n",
       "  </tbody>\n",
       "</table>\n",
       "<p>5 rows × 21 columns</p>\n",
       "</div>"
      ],
      "text/plain": [
       "   battery_power  blue  clock_speed  dual_sim  fc  four_g  int_memory  m_dep  \\\n",
       "0            842     0          2.2         0   1       0           7    0.6   \n",
       "1           1021     1          0.5         1   0       1          53    0.7   \n",
       "2            563     1          0.5         1   2       1          41    0.9   \n",
       "3            615     1          2.5         0   0       0          10    0.8   \n",
       "4           1821     1          1.2         0  13       1          44    0.6   \n",
       "\n",
       "   mobile_wt  n_cores  ...  px_height  px_width   ram  sc_h  sc_w  talk_time  \\\n",
       "0        188        2  ...         20       756  2549     9     7         19   \n",
       "1        136        3  ...        905      1988  2631    17     3          7   \n",
       "2        145        5  ...       1263      1716  2603    11     2          9   \n",
       "3        131        6  ...       1216      1786  2769    16     8         11   \n",
       "4        141        2  ...       1208      1212  1411     8     2         15   \n",
       "\n",
       "   three_g  touch_screen  wifi  price_range  \n",
       "0        0             0     1            1  \n",
       "1        1             1     0            2  \n",
       "2        1             1     0            2  \n",
       "3        1             0     0            2  \n",
       "4        1             1     0            1  \n",
       "\n",
       "[5 rows x 21 columns]"
      ]
     },
     "execution_count": 60,
     "metadata": {},
     "output_type": "execute_result"
    }
   ],
   "source": [
    "data=pd.read_csv('mobile_prices.csv')\n",
    "data.head()"
   ]
  },
  {
   "cell_type": "code",
   "execution_count": 61,
   "id": "55843cd3",
   "metadata": {},
   "outputs": [
    {
     "name": "stdout",
     "output_type": "stream",
     "text": [
      "The dataset has 2000 instances (rows) and 21 features (columns).\n"
     ]
    }
   ],
   "source": [
    "data.shape\n",
    "print('The dataset has {} instances (rows) and {} features (columns).'.format(data.shape[0],data.shape[1]))"
   ]
  },
  {
   "cell_type": "markdown",
   "id": "22b6f343",
   "metadata": {},
   "source": [
    "**With the following code I want to identify if the dataset has null values. In addition, I want to identify the data types that the dataset has:**"
   ]
  },
  {
   "cell_type": "code",
   "execution_count": 62,
   "id": "ac7333d0",
   "metadata": {},
   "outputs": [
    {
     "name": "stdout",
     "output_type": "stream",
     "text": [
      "<class 'pandas.core.frame.DataFrame'>\n",
      "RangeIndex: 2000 entries, 0 to 1999\n",
      "Data columns (total 21 columns):\n",
      " #   Column         Non-Null Count  Dtype  \n",
      "---  ------         --------------  -----  \n",
      " 0   battery_power  2000 non-null   int64  \n",
      " 1   blue           2000 non-null   int64  \n",
      " 2   clock_speed    2000 non-null   float64\n",
      " 3   dual_sim       2000 non-null   int64  \n",
      " 4   fc             2000 non-null   int64  \n",
      " 5   four_g         2000 non-null   int64  \n",
      " 6   int_memory     2000 non-null   int64  \n",
      " 7   m_dep          2000 non-null   float64\n",
      " 8   mobile_wt      2000 non-null   int64  \n",
      " 9   n_cores        2000 non-null   int64  \n",
      " 10  pc             2000 non-null   int64  \n",
      " 11  px_height      2000 non-null   int64  \n",
      " 12  px_width       2000 non-null   int64  \n",
      " 13  ram            2000 non-null   int64  \n",
      " 14  sc_h           2000 non-null   int64  \n",
      " 15  sc_w           2000 non-null   int64  \n",
      " 16  talk_time      2000 non-null   int64  \n",
      " 17  three_g        2000 non-null   int64  \n",
      " 18  touch_screen   2000 non-null   int64  \n",
      " 19  wifi           2000 non-null   int64  \n",
      " 20  price_range    2000 non-null   int64  \n",
      "dtypes: float64(2), int64(19)\n",
      "memory usage: 328.2 KB\n"
     ]
    }
   ],
   "source": [
    "data.info()"
   ]
  },
  {
   "cell_type": "markdown",
   "id": "3aeef73f",
   "metadata": {},
   "source": [
    "**The dataset has no null values, so I don't need to do the imputation. Also, the dataset has 19 integer data and 2 float data. Since we do not have categorical data, it is not necessary to encode our variables.**"
   ]
  },
  {
   "cell_type": "markdown",
   "id": "d52c7025",
   "metadata": {},
   "source": [
    "**With the following code I want to see the main statistical data of the dataset:**"
   ]
  },
  {
   "cell_type": "code",
   "execution_count": 63,
   "id": "6b04dda6",
   "metadata": {},
   "outputs": [
    {
     "data": {
      "text/html": [
       "<div>\n",
       "<style scoped>\n",
       "    .dataframe tbody tr th:only-of-type {\n",
       "        vertical-align: middle;\n",
       "    }\n",
       "\n",
       "    .dataframe tbody tr th {\n",
       "        vertical-align: top;\n",
       "    }\n",
       "\n",
       "    .dataframe thead th {\n",
       "        text-align: right;\n",
       "    }\n",
       "</style>\n",
       "<table border=\"1\" class=\"dataframe\">\n",
       "  <thead>\n",
       "    <tr style=\"text-align: right;\">\n",
       "      <th></th>\n",
       "      <th>battery_power</th>\n",
       "      <th>blue</th>\n",
       "      <th>clock_speed</th>\n",
       "      <th>dual_sim</th>\n",
       "      <th>fc</th>\n",
       "      <th>four_g</th>\n",
       "      <th>int_memory</th>\n",
       "      <th>m_dep</th>\n",
       "      <th>mobile_wt</th>\n",
       "      <th>n_cores</th>\n",
       "      <th>...</th>\n",
       "      <th>px_height</th>\n",
       "      <th>px_width</th>\n",
       "      <th>ram</th>\n",
       "      <th>sc_h</th>\n",
       "      <th>sc_w</th>\n",
       "      <th>talk_time</th>\n",
       "      <th>three_g</th>\n",
       "      <th>touch_screen</th>\n",
       "      <th>wifi</th>\n",
       "      <th>price_range</th>\n",
       "    </tr>\n",
       "  </thead>\n",
       "  <tbody>\n",
       "    <tr>\n",
       "      <th>count</th>\n",
       "      <td>2000.000000</td>\n",
       "      <td>2000.0000</td>\n",
       "      <td>2000.000000</td>\n",
       "      <td>2000.000000</td>\n",
       "      <td>2000.000000</td>\n",
       "      <td>2000.000000</td>\n",
       "      <td>2000.000000</td>\n",
       "      <td>2000.000000</td>\n",
       "      <td>2000.000000</td>\n",
       "      <td>2000.000000</td>\n",
       "      <td>...</td>\n",
       "      <td>2000.000000</td>\n",
       "      <td>2000.000000</td>\n",
       "      <td>2000.000000</td>\n",
       "      <td>2000.000000</td>\n",
       "      <td>2000.000000</td>\n",
       "      <td>2000.000000</td>\n",
       "      <td>2000.000000</td>\n",
       "      <td>2000.000000</td>\n",
       "      <td>2000.000000</td>\n",
       "      <td>2000.000000</td>\n",
       "    </tr>\n",
       "    <tr>\n",
       "      <th>mean</th>\n",
       "      <td>1238.518500</td>\n",
       "      <td>0.4950</td>\n",
       "      <td>1.522250</td>\n",
       "      <td>0.509500</td>\n",
       "      <td>4.309500</td>\n",
       "      <td>0.521500</td>\n",
       "      <td>32.046500</td>\n",
       "      <td>0.501750</td>\n",
       "      <td>140.249000</td>\n",
       "      <td>4.520500</td>\n",
       "      <td>...</td>\n",
       "      <td>645.108000</td>\n",
       "      <td>1251.515500</td>\n",
       "      <td>2124.213000</td>\n",
       "      <td>12.306500</td>\n",
       "      <td>5.767000</td>\n",
       "      <td>11.011000</td>\n",
       "      <td>0.761500</td>\n",
       "      <td>0.503000</td>\n",
       "      <td>0.507000</td>\n",
       "      <td>1.500000</td>\n",
       "    </tr>\n",
       "    <tr>\n",
       "      <th>std</th>\n",
       "      <td>439.418206</td>\n",
       "      <td>0.5001</td>\n",
       "      <td>0.816004</td>\n",
       "      <td>0.500035</td>\n",
       "      <td>4.341444</td>\n",
       "      <td>0.499662</td>\n",
       "      <td>18.145715</td>\n",
       "      <td>0.288416</td>\n",
       "      <td>35.399655</td>\n",
       "      <td>2.287837</td>\n",
       "      <td>...</td>\n",
       "      <td>443.780811</td>\n",
       "      <td>432.199447</td>\n",
       "      <td>1084.732044</td>\n",
       "      <td>4.213245</td>\n",
       "      <td>4.356398</td>\n",
       "      <td>5.463955</td>\n",
       "      <td>0.426273</td>\n",
       "      <td>0.500116</td>\n",
       "      <td>0.500076</td>\n",
       "      <td>1.118314</td>\n",
       "    </tr>\n",
       "    <tr>\n",
       "      <th>min</th>\n",
       "      <td>501.000000</td>\n",
       "      <td>0.0000</td>\n",
       "      <td>0.500000</td>\n",
       "      <td>0.000000</td>\n",
       "      <td>0.000000</td>\n",
       "      <td>0.000000</td>\n",
       "      <td>2.000000</td>\n",
       "      <td>0.100000</td>\n",
       "      <td>80.000000</td>\n",
       "      <td>1.000000</td>\n",
       "      <td>...</td>\n",
       "      <td>0.000000</td>\n",
       "      <td>500.000000</td>\n",
       "      <td>256.000000</td>\n",
       "      <td>5.000000</td>\n",
       "      <td>0.000000</td>\n",
       "      <td>2.000000</td>\n",
       "      <td>0.000000</td>\n",
       "      <td>0.000000</td>\n",
       "      <td>0.000000</td>\n",
       "      <td>0.000000</td>\n",
       "    </tr>\n",
       "    <tr>\n",
       "      <th>25%</th>\n",
       "      <td>851.750000</td>\n",
       "      <td>0.0000</td>\n",
       "      <td>0.700000</td>\n",
       "      <td>0.000000</td>\n",
       "      <td>1.000000</td>\n",
       "      <td>0.000000</td>\n",
       "      <td>16.000000</td>\n",
       "      <td>0.200000</td>\n",
       "      <td>109.000000</td>\n",
       "      <td>3.000000</td>\n",
       "      <td>...</td>\n",
       "      <td>282.750000</td>\n",
       "      <td>874.750000</td>\n",
       "      <td>1207.500000</td>\n",
       "      <td>9.000000</td>\n",
       "      <td>2.000000</td>\n",
       "      <td>6.000000</td>\n",
       "      <td>1.000000</td>\n",
       "      <td>0.000000</td>\n",
       "      <td>0.000000</td>\n",
       "      <td>0.750000</td>\n",
       "    </tr>\n",
       "    <tr>\n",
       "      <th>50%</th>\n",
       "      <td>1226.000000</td>\n",
       "      <td>0.0000</td>\n",
       "      <td>1.500000</td>\n",
       "      <td>1.000000</td>\n",
       "      <td>3.000000</td>\n",
       "      <td>1.000000</td>\n",
       "      <td>32.000000</td>\n",
       "      <td>0.500000</td>\n",
       "      <td>141.000000</td>\n",
       "      <td>4.000000</td>\n",
       "      <td>...</td>\n",
       "      <td>564.000000</td>\n",
       "      <td>1247.000000</td>\n",
       "      <td>2146.500000</td>\n",
       "      <td>12.000000</td>\n",
       "      <td>5.000000</td>\n",
       "      <td>11.000000</td>\n",
       "      <td>1.000000</td>\n",
       "      <td>1.000000</td>\n",
       "      <td>1.000000</td>\n",
       "      <td>1.500000</td>\n",
       "    </tr>\n",
       "    <tr>\n",
       "      <th>75%</th>\n",
       "      <td>1615.250000</td>\n",
       "      <td>1.0000</td>\n",
       "      <td>2.200000</td>\n",
       "      <td>1.000000</td>\n",
       "      <td>7.000000</td>\n",
       "      <td>1.000000</td>\n",
       "      <td>48.000000</td>\n",
       "      <td>0.800000</td>\n",
       "      <td>170.000000</td>\n",
       "      <td>7.000000</td>\n",
       "      <td>...</td>\n",
       "      <td>947.250000</td>\n",
       "      <td>1633.000000</td>\n",
       "      <td>3064.500000</td>\n",
       "      <td>16.000000</td>\n",
       "      <td>9.000000</td>\n",
       "      <td>16.000000</td>\n",
       "      <td>1.000000</td>\n",
       "      <td>1.000000</td>\n",
       "      <td>1.000000</td>\n",
       "      <td>2.250000</td>\n",
       "    </tr>\n",
       "    <tr>\n",
       "      <th>max</th>\n",
       "      <td>1998.000000</td>\n",
       "      <td>1.0000</td>\n",
       "      <td>3.000000</td>\n",
       "      <td>1.000000</td>\n",
       "      <td>19.000000</td>\n",
       "      <td>1.000000</td>\n",
       "      <td>64.000000</td>\n",
       "      <td>1.000000</td>\n",
       "      <td>200.000000</td>\n",
       "      <td>8.000000</td>\n",
       "      <td>...</td>\n",
       "      <td>1960.000000</td>\n",
       "      <td>1998.000000</td>\n",
       "      <td>3998.000000</td>\n",
       "      <td>19.000000</td>\n",
       "      <td>18.000000</td>\n",
       "      <td>20.000000</td>\n",
       "      <td>1.000000</td>\n",
       "      <td>1.000000</td>\n",
       "      <td>1.000000</td>\n",
       "      <td>3.000000</td>\n",
       "    </tr>\n",
       "  </tbody>\n",
       "</table>\n",
       "<p>8 rows × 21 columns</p>\n",
       "</div>"
      ],
      "text/plain": [
       "       battery_power       blue  clock_speed     dual_sim           fc  \\\n",
       "count    2000.000000  2000.0000  2000.000000  2000.000000  2000.000000   \n",
       "mean     1238.518500     0.4950     1.522250     0.509500     4.309500   \n",
       "std       439.418206     0.5001     0.816004     0.500035     4.341444   \n",
       "min       501.000000     0.0000     0.500000     0.000000     0.000000   \n",
       "25%       851.750000     0.0000     0.700000     0.000000     1.000000   \n",
       "50%      1226.000000     0.0000     1.500000     1.000000     3.000000   \n",
       "75%      1615.250000     1.0000     2.200000     1.000000     7.000000   \n",
       "max      1998.000000     1.0000     3.000000     1.000000    19.000000   \n",
       "\n",
       "            four_g   int_memory        m_dep    mobile_wt      n_cores  ...  \\\n",
       "count  2000.000000  2000.000000  2000.000000  2000.000000  2000.000000  ...   \n",
       "mean      0.521500    32.046500     0.501750   140.249000     4.520500  ...   \n",
       "std       0.499662    18.145715     0.288416    35.399655     2.287837  ...   \n",
       "min       0.000000     2.000000     0.100000    80.000000     1.000000  ...   \n",
       "25%       0.000000    16.000000     0.200000   109.000000     3.000000  ...   \n",
       "50%       1.000000    32.000000     0.500000   141.000000     4.000000  ...   \n",
       "75%       1.000000    48.000000     0.800000   170.000000     7.000000  ...   \n",
       "max       1.000000    64.000000     1.000000   200.000000     8.000000  ...   \n",
       "\n",
       "         px_height     px_width          ram         sc_h         sc_w  \\\n",
       "count  2000.000000  2000.000000  2000.000000  2000.000000  2000.000000   \n",
       "mean    645.108000  1251.515500  2124.213000    12.306500     5.767000   \n",
       "std     443.780811   432.199447  1084.732044     4.213245     4.356398   \n",
       "min       0.000000   500.000000   256.000000     5.000000     0.000000   \n",
       "25%     282.750000   874.750000  1207.500000     9.000000     2.000000   \n",
       "50%     564.000000  1247.000000  2146.500000    12.000000     5.000000   \n",
       "75%     947.250000  1633.000000  3064.500000    16.000000     9.000000   \n",
       "max    1960.000000  1998.000000  3998.000000    19.000000    18.000000   \n",
       "\n",
       "         talk_time      three_g  touch_screen         wifi  price_range  \n",
       "count  2000.000000  2000.000000   2000.000000  2000.000000  2000.000000  \n",
       "mean     11.011000     0.761500      0.503000     0.507000     1.500000  \n",
       "std       5.463955     0.426273      0.500116     0.500076     1.118314  \n",
       "min       2.000000     0.000000      0.000000     0.000000     0.000000  \n",
       "25%       6.000000     1.000000      0.000000     0.000000     0.750000  \n",
       "50%      11.000000     1.000000      1.000000     1.000000     1.500000  \n",
       "75%      16.000000     1.000000      1.000000     1.000000     2.250000  \n",
       "max      20.000000     1.000000      1.000000     1.000000     3.000000  \n",
       "\n",
       "[8 rows x 21 columns]"
      ]
     },
     "execution_count": 63,
     "metadata": {},
     "output_type": "execute_result"
    }
   ],
   "source": [
    "data.describe()"
   ]
  },
  {
   "cell_type": "markdown",
   "id": "eb940380",
   "metadata": {},
   "source": [
    "**With the following code I want which data contain integer values and which have floating data values:**"
   ]
  },
  {
   "cell_type": "code",
   "execution_count": 64,
   "id": "35871cf6",
   "metadata": {},
   "outputs": [
    {
     "data": {
      "text/html": [
       "<div>\n",
       "<style scoped>\n",
       "    .dataframe tbody tr th:only-of-type {\n",
       "        vertical-align: middle;\n",
       "    }\n",
       "\n",
       "    .dataframe tbody tr th {\n",
       "        vertical-align: top;\n",
       "    }\n",
       "\n",
       "    .dataframe thead th {\n",
       "        text-align: right;\n",
       "    }\n",
       "</style>\n",
       "<table border=\"1\" class=\"dataframe\">\n",
       "  <thead>\n",
       "    <tr style=\"text-align: right;\">\n",
       "      <th></th>\n",
       "      <th>battery_power</th>\n",
       "      <th>blue</th>\n",
       "      <th>dual_sim</th>\n",
       "      <th>fc</th>\n",
       "      <th>four_g</th>\n",
       "      <th>int_memory</th>\n",
       "      <th>mobile_wt</th>\n",
       "      <th>n_cores</th>\n",
       "      <th>pc</th>\n",
       "      <th>px_height</th>\n",
       "      <th>px_width</th>\n",
       "      <th>ram</th>\n",
       "      <th>sc_h</th>\n",
       "      <th>sc_w</th>\n",
       "      <th>talk_time</th>\n",
       "      <th>three_g</th>\n",
       "      <th>touch_screen</th>\n",
       "      <th>wifi</th>\n",
       "      <th>price_range</th>\n",
       "    </tr>\n",
       "  </thead>\n",
       "  <tbody>\n",
       "    <tr>\n",
       "      <th>0</th>\n",
       "      <td>842</td>\n",
       "      <td>0</td>\n",
       "      <td>0</td>\n",
       "      <td>1</td>\n",
       "      <td>0</td>\n",
       "      <td>7</td>\n",
       "      <td>188</td>\n",
       "      <td>2</td>\n",
       "      <td>2</td>\n",
       "      <td>20</td>\n",
       "      <td>756</td>\n",
       "      <td>2549</td>\n",
       "      <td>9</td>\n",
       "      <td>7</td>\n",
       "      <td>19</td>\n",
       "      <td>0</td>\n",
       "      <td>0</td>\n",
       "      <td>1</td>\n",
       "      <td>1</td>\n",
       "    </tr>\n",
       "    <tr>\n",
       "      <th>1</th>\n",
       "      <td>1021</td>\n",
       "      <td>1</td>\n",
       "      <td>1</td>\n",
       "      <td>0</td>\n",
       "      <td>1</td>\n",
       "      <td>53</td>\n",
       "      <td>136</td>\n",
       "      <td>3</td>\n",
       "      <td>6</td>\n",
       "      <td>905</td>\n",
       "      <td>1988</td>\n",
       "      <td>2631</td>\n",
       "      <td>17</td>\n",
       "      <td>3</td>\n",
       "      <td>7</td>\n",
       "      <td>1</td>\n",
       "      <td>1</td>\n",
       "      <td>0</td>\n",
       "      <td>2</td>\n",
       "    </tr>\n",
       "    <tr>\n",
       "      <th>2</th>\n",
       "      <td>563</td>\n",
       "      <td>1</td>\n",
       "      <td>1</td>\n",
       "      <td>2</td>\n",
       "      <td>1</td>\n",
       "      <td>41</td>\n",
       "      <td>145</td>\n",
       "      <td>5</td>\n",
       "      <td>6</td>\n",
       "      <td>1263</td>\n",
       "      <td>1716</td>\n",
       "      <td>2603</td>\n",
       "      <td>11</td>\n",
       "      <td>2</td>\n",
       "      <td>9</td>\n",
       "      <td>1</td>\n",
       "      <td>1</td>\n",
       "      <td>0</td>\n",
       "      <td>2</td>\n",
       "    </tr>\n",
       "    <tr>\n",
       "      <th>3</th>\n",
       "      <td>615</td>\n",
       "      <td>1</td>\n",
       "      <td>0</td>\n",
       "      <td>0</td>\n",
       "      <td>0</td>\n",
       "      <td>10</td>\n",
       "      <td>131</td>\n",
       "      <td>6</td>\n",
       "      <td>9</td>\n",
       "      <td>1216</td>\n",
       "      <td>1786</td>\n",
       "      <td>2769</td>\n",
       "      <td>16</td>\n",
       "      <td>8</td>\n",
       "      <td>11</td>\n",
       "      <td>1</td>\n",
       "      <td>0</td>\n",
       "      <td>0</td>\n",
       "      <td>2</td>\n",
       "    </tr>\n",
       "    <tr>\n",
       "      <th>4</th>\n",
       "      <td>1821</td>\n",
       "      <td>1</td>\n",
       "      <td>0</td>\n",
       "      <td>13</td>\n",
       "      <td>1</td>\n",
       "      <td>44</td>\n",
       "      <td>141</td>\n",
       "      <td>2</td>\n",
       "      <td>14</td>\n",
       "      <td>1208</td>\n",
       "      <td>1212</td>\n",
       "      <td>1411</td>\n",
       "      <td>8</td>\n",
       "      <td>2</td>\n",
       "      <td>15</td>\n",
       "      <td>1</td>\n",
       "      <td>1</td>\n",
       "      <td>0</td>\n",
       "      <td>1</td>\n",
       "    </tr>\n",
       "  </tbody>\n",
       "</table>\n",
       "</div>"
      ],
      "text/plain": [
       "   battery_power  blue  dual_sim  fc  four_g  int_memory  mobile_wt  n_cores  \\\n",
       "0            842     0         0   1       0           7        188        2   \n",
       "1           1021     1         1   0       1          53        136        3   \n",
       "2            563     1         1   2       1          41        145        5   \n",
       "3            615     1         0   0       0          10        131        6   \n",
       "4           1821     1         0  13       1          44        141        2   \n",
       "\n",
       "   pc  px_height  px_width   ram  sc_h  sc_w  talk_time  three_g  \\\n",
       "0   2         20       756  2549     9     7         19        0   \n",
       "1   6        905      1988  2631    17     3          7        1   \n",
       "2   6       1263      1716  2603    11     2          9        1   \n",
       "3   9       1216      1786  2769    16     8         11        1   \n",
       "4  14       1208      1212  1411     8     2         15        1   \n",
       "\n",
       "   touch_screen  wifi  price_range  \n",
       "0             0     1            1  \n",
       "1             1     0            2  \n",
       "2             1     0            2  \n",
       "3             0     0            2  \n",
       "4             1     0            1  "
      ]
     },
     "execution_count": 64,
     "metadata": {},
     "output_type": "execute_result"
    }
   ],
   "source": [
    "data_categorical=data.select_dtypes(include='int64')\n",
    "data_categorical.head()"
   ]
  },
  {
   "cell_type": "code",
   "execution_count": 65,
   "id": "50cf88b0",
   "metadata": {
    "scrolled": true
   },
   "outputs": [
    {
     "data": {
      "text/html": [
       "<div>\n",
       "<style scoped>\n",
       "    .dataframe tbody tr th:only-of-type {\n",
       "        vertical-align: middle;\n",
       "    }\n",
       "\n",
       "    .dataframe tbody tr th {\n",
       "        vertical-align: top;\n",
       "    }\n",
       "\n",
       "    .dataframe thead th {\n",
       "        text-align: right;\n",
       "    }\n",
       "</style>\n",
       "<table border=\"1\" class=\"dataframe\">\n",
       "  <thead>\n",
       "    <tr style=\"text-align: right;\">\n",
       "      <th></th>\n",
       "      <th>clock_speed</th>\n",
       "      <th>m_dep</th>\n",
       "    </tr>\n",
       "  </thead>\n",
       "  <tbody>\n",
       "    <tr>\n",
       "      <th>0</th>\n",
       "      <td>2.2</td>\n",
       "      <td>0.6</td>\n",
       "    </tr>\n",
       "    <tr>\n",
       "      <th>1</th>\n",
       "      <td>0.5</td>\n",
       "      <td>0.7</td>\n",
       "    </tr>\n",
       "    <tr>\n",
       "      <th>2</th>\n",
       "      <td>0.5</td>\n",
       "      <td>0.9</td>\n",
       "    </tr>\n",
       "    <tr>\n",
       "      <th>3</th>\n",
       "      <td>2.5</td>\n",
       "      <td>0.8</td>\n",
       "    </tr>\n",
       "    <tr>\n",
       "      <th>4</th>\n",
       "      <td>1.2</td>\n",
       "      <td>0.6</td>\n",
       "    </tr>\n",
       "  </tbody>\n",
       "</table>\n",
       "</div>"
      ],
      "text/plain": [
       "   clock_speed  m_dep\n",
       "0          2.2    0.6\n",
       "1          0.5    0.7\n",
       "2          0.5    0.9\n",
       "3          2.5    0.8\n",
       "4          1.2    0.6"
      ]
     },
     "execution_count": 65,
     "metadata": {},
     "output_type": "execute_result"
    }
   ],
   "source": [
    "data_categorical=data.select_dtypes(include='float64')\n",
    "data_categorical.head()"
   ]
  },
  {
   "cell_type": "markdown",
   "id": "69727054",
   "metadata": {},
   "source": [
    "**The following graph shows the participation by price range:**"
   ]
  },
  {
   "cell_type": "code",
   "execution_count": 66,
   "id": "caf7d8b7",
   "metadata": {
    "scrolled": false
   },
   "outputs": [
    {
     "data": {
      "image/png": "[encoded data removed]",
      "text/plain": [
       "<Figure size 360x360 with 1 Axes>"
      ]
     },
     "metadata": {},
     "output_type": "display_data"
    }
   ],
   "source": [
    "labels = data[\"price_range\"].value_counts().index\n",
    "sizes = data[\"price_range\"].value_counts()\n",
    "colors = sns.color_palette('pastel')[0:10]\n",
    "plt.figure(figsize = (5,5))\n",
    "plt.pie(sizes, labels=labels, rotatelabels=False, autopct='%1.1f%%',colors=colors,shadow=True, startangle=90)\n",
    "plt.title('Participation by price range',color = 'green',fontsize = 15)\n",
    "plt.show()"
   ]
  },
  {
   "cell_type": "markdown",
   "id": "6d1017ae",
   "metadata": {},
   "source": [
    "**With the following graph we can see the participation by price range and by mobile features:**"
   ]
  },
  {
   "cell_type": "code",
   "execution_count": 67,
   "id": "d9997526",
   "metadata": {
    "scrolled": false
   },
   "outputs": [
    {
     "data": {
      "text/html": [
       "<style type=\"text/css\">\n",
       "#T_56f28_row0_col0, #T_56f28_row4_col0 {\n",
       "  background-color: #d95847;\n",
       "  color: #f1f1f1;\n",
       "}\n",
       "#T_56f28_row0_col1, #T_56f28_row1_col1 {\n",
       "  background-color: #dddcdc;\n",
       "  color: #000000;\n",
       "}\n",
       "#T_56f28_row0_col2 {\n",
       "  background-color: #a5c3fe;\n",
       "  color: #000000;\n",
       "}\n",
       "#T_56f28_row0_col3 {\n",
       "  background-color: #4a63d3;\n",
       "  color: #f1f1f1;\n",
       "}\n",
       "#T_56f28_row0_col4 {\n",
       "  background-color: #5977e3;\n",
       "  color: #f1f1f1;\n",
       "}\n",
       "#T_56f28_row0_col5, #T_56f28_row3_col5, #T_56f28_row5_col5 {\n",
       "  background-color: #efcebd;\n",
       "  color: #000000;\n",
       "}\n",
       "#T_56f28_row1_col0, #T_56f28_row5_col0 {\n",
       "  background-color: #5d7ce6;\n",
       "  color: #f1f1f1;\n",
       "}\n",
       "#T_56f28_row1_col2 {\n",
       "  background-color: #f7b396;\n",
       "  color: #000000;\n",
       "}\n",
       "#T_56f28_row1_col3 {\n",
       "  background-color: #c73635;\n",
       "  color: #f1f1f1;\n",
       "}\n",
       "#T_56f28_row1_col4 {\n",
       "  background-color: #d65244;\n",
       "  color: #f1f1f1;\n",
       "}\n",
       "#T_56f28_row1_col5, #T_56f28_row2_col5, #T_56f28_row4_col5 {\n",
       "  background-color: #c5d6f2;\n",
       "  color: #000000;\n",
       "}\n",
       "#T_56f28_row2_col0 {\n",
       "  background-color: #f18d6f;\n",
       "  color: #f1f1f1;\n",
       "}\n",
       "#T_56f28_row2_col1 {\n",
       "  background-color: #aac7fd;\n",
       "  color: #000000;\n",
       "}\n",
       "#T_56f28_row2_col2 {\n",
       "  background-color: #90b2fe;\n",
       "  color: #000000;\n",
       "}\n",
       "#T_56f28_row2_col3 {\n",
       "  background-color: #445acc;\n",
       "  color: #f1f1f1;\n",
       "}\n",
       "#T_56f28_row2_col4 {\n",
       "  background-color: #6485ec;\n",
       "  color: #f1f1f1;\n",
       "}\n",
       "#T_56f28_row3_col0 {\n",
       "  background-color: #82a6fb;\n",
       "  color: #f1f1f1;\n",
       "}\n",
       "#T_56f28_row3_col1 {\n",
       "  background-color: #f7b89c;\n",
       "  color: #000000;\n",
       "}\n",
       "#T_56f28_row3_col2 {\n",
       "  background-color: #f59d7e;\n",
       "  color: #000000;\n",
       "}\n",
       "#T_56f28_row3_col3 {\n",
       "  background-color: #c0282f;\n",
       "  color: #f1f1f1;\n",
       "}\n",
       "#T_56f28_row3_col4 {\n",
       "  background-color: #e0654f;\n",
       "  color: #f1f1f1;\n",
       "}\n",
       "#T_56f28_row4_col1 {\n",
       "  background-color: #e5d8d1;\n",
       "  color: #000000;\n",
       "}\n",
       "#T_56f28_row4_col2 {\n",
       "  background-color: #ebd3c6;\n",
       "  color: #000000;\n",
       "}\n",
       "#T_56f28_row4_col3, #T_56f28_row5_col4, #T_56f28_row7_col0, #T_56f28_row7_col1, #T_56f28_row7_col2, #T_56f28_row7_col5 {\n",
       "  background-color: #3b4cc0;\n",
       "  color: #f1f1f1;\n",
       "}\n",
       "#T_56f28_row4_col4, #T_56f28_row5_col3, #T_56f28_row6_col0, #T_56f28_row6_col1, #T_56f28_row6_col2, #T_56f28_row6_col5 {\n",
       "  background-color: #b40426;\n",
       "  color: #f1f1f1;\n",
       "}\n",
       "#T_56f28_row5_col1 {\n",
       "  background-color: #d4dbe6;\n",
       "  color: #000000;\n",
       "}\n",
       "#T_56f28_row5_col2 {\n",
       "  background-color: #ccd9ed;\n",
       "  color: #000000;\n",
       "}\n",
       "#T_56f28_row6_col3 {\n",
       "  background-color: #b50927;\n",
       "  color: #f1f1f1;\n",
       "}\n",
       "#T_56f28_row6_col4 {\n",
       "  background-color: #cad8ef;\n",
       "  color: #000000;\n",
       "}\n",
       "#T_56f28_row7_col3 {\n",
       "  background-color: #3c4ec2;\n",
       "  color: #f1f1f1;\n",
       "}\n",
       "#T_56f28_row7_col4 {\n",
       "  background-color: #edd2c3;\n",
       "  color: #000000;\n",
       "}\n",
       "</style>\n",
       "<table id=\"T_56f28\">\n",
       "  <thead>\n",
       "    <tr>\n",
       "      <th class=\"blank\" >&nbsp;</th>\n",
       "      <th class=\"blank level0\" >&nbsp;</th>\n",
       "      <th id=\"T_56f28_level0_col0\" class=\"col_heading level0 col0\" >blue</th>\n",
       "      <th id=\"T_56f28_level0_col1\" class=\"col_heading level0 col1\" >dual_sim</th>\n",
       "      <th id=\"T_56f28_level0_col2\" class=\"col_heading level0 col2\" >four_g</th>\n",
       "      <th id=\"T_56f28_level0_col3\" class=\"col_heading level0 col3\" >Three_g</th>\n",
       "      <th id=\"T_56f28_level0_col4\" class=\"col_heading level0 col4\" >touch_screen</th>\n",
       "      <th id=\"T_56f28_level0_col5\" class=\"col_heading level0 col5\" >wifi</th>\n",
       "    </tr>\n",
       "    <tr>\n",
       "      <th class=\"index_name level0\" >price_range</th>\n",
       "      <th class=\"index_name level1\" >&nbsp;</th>\n",
       "      <th class=\"blank col0\" >&nbsp;</th>\n",
       "      <th class=\"blank col1\" >&nbsp;</th>\n",
       "      <th class=\"blank col2\" >&nbsp;</th>\n",
       "      <th class=\"blank col3\" >&nbsp;</th>\n",
       "      <th class=\"blank col4\" >&nbsp;</th>\n",
       "      <th class=\"blank col5\" >&nbsp;</th>\n",
       "    </tr>\n",
       "  </thead>\n",
       "  <tbody>\n",
       "    <tr>\n",
       "      <th id=\"T_56f28_level0_row0\" class=\"row_heading level0 row0\" rowspan=\"2\">0</th>\n",
       "      <th id=\"T_56f28_level1_row0\" class=\"row_heading level1 row0\" >0</th>\n",
       "      <td id=\"T_56f28_row0_col0\" class=\"data row0 col0\" >257</td>\n",
       "      <td id=\"T_56f28_row0_col1\" class=\"data row0 col1\" >250</td>\n",
       "      <td id=\"T_56f28_row0_col2\" class=\"data row0 col2\" >241</td>\n",
       "      <td id=\"T_56f28_row0_col3\" class=\"data row0 col3\" >127</td>\n",
       "      <td id=\"T_56f28_row0_col4\" class=\"data row0 col4\" >238</td>\n",
       "      <td id=\"T_56f28_row0_col5\" class=\"data row0 col5\" >252</td>\n",
       "    </tr>\n",
       "    <tr>\n",
       "      <th id=\"T_56f28_level1_row1\" class=\"row_heading level1 row1\" >1</th>\n",
       "      <td id=\"T_56f28_row1_col0\" class=\"data row1 col0\" >243</td>\n",
       "      <td id=\"T_56f28_row1_col1\" class=\"data row1 col1\" >250</td>\n",
       "      <td id=\"T_56f28_row1_col2\" class=\"data row1 col2\" >259</td>\n",
       "      <td id=\"T_56f28_row1_col3\" class=\"data row1 col3\" >373</td>\n",
       "      <td id=\"T_56f28_row1_col4\" class=\"data row1 col4\" >262</td>\n",
       "      <td id=\"T_56f28_row1_col5\" class=\"data row1 col5\" >248</td>\n",
       "    </tr>\n",
       "    <tr>\n",
       "      <th id=\"T_56f28_level0_row2\" class=\"row_heading level0 row2\" rowspan=\"2\">1</th>\n",
       "      <th id=\"T_56f28_level1_row2\" class=\"row_heading level1 row2\" >0</th>\n",
       "      <td id=\"T_56f28_row2_col0\" class=\"data row2 col0\" >255</td>\n",
       "      <td id=\"T_56f28_row2_col1\" class=\"data row2 col1\" >245</td>\n",
       "      <td id=\"T_56f28_row2_col2\" class=\"data row2 col2\" >238</td>\n",
       "      <td id=\"T_56f28_row2_col3\" class=\"data row2 col3\" >122</td>\n",
       "      <td id=\"T_56f28_row2_col4\" class=\"data row2 col4\" >239</td>\n",
       "      <td id=\"T_56f28_row2_col5\" class=\"data row2 col5\" >248</td>\n",
       "    </tr>\n",
       "    <tr>\n",
       "      <th id=\"T_56f28_level1_row3\" class=\"row_heading level1 row3\" >1</th>\n",
       "      <td id=\"T_56f28_row3_col0\" class=\"data row3 col0\" >245</td>\n",
       "      <td id=\"T_56f28_row3_col1\" class=\"data row3 col1\" >255</td>\n",
       "      <td id=\"T_56f28_row3_col2\" class=\"data row3 col2\" >262</td>\n",
       "      <td id=\"T_56f28_row3_col3\" class=\"data row3 col3\" >378</td>\n",
       "      <td id=\"T_56f28_row3_col4\" class=\"data row3 col4\" >261</td>\n",
       "      <td id=\"T_56f28_row3_col5\" class=\"data row3 col5\" >252</td>\n",
       "    </tr>\n",
       "    <tr>\n",
       "      <th id=\"T_56f28_level0_row4\" class=\"row_heading level0 row4\" rowspan=\"2\">2</th>\n",
       "      <th id=\"T_56f28_level1_row4\" class=\"row_heading level1 row4\" >0</th>\n",
       "      <td id=\"T_56f28_row4_col0\" class=\"data row4 col0\" >257</td>\n",
       "      <td id=\"T_56f28_row4_col1\" class=\"data row4 col1\" >251</td>\n",
       "      <td id=\"T_56f28_row4_col2\" class=\"data row4 col2\" >253</td>\n",
       "      <td id=\"T_56f28_row4_col3\" class=\"data row4 col3\" >113</td>\n",
       "      <td id=\"T_56f28_row4_col4\" class=\"data row4 col4\" >265</td>\n",
       "      <td id=\"T_56f28_row4_col5\" class=\"data row4 col5\" >248</td>\n",
       "    </tr>\n",
       "    <tr>\n",
       "      <th id=\"T_56f28_level1_row5\" class=\"row_heading level1 row5\" >1</th>\n",
       "      <td id=\"T_56f28_row5_col0\" class=\"data row5 col0\" >243</td>\n",
       "      <td id=\"T_56f28_row5_col1\" class=\"data row5 col1\" >249</td>\n",
       "      <td id=\"T_56f28_row5_col2\" class=\"data row5 col2\" >247</td>\n",
       "      <td id=\"T_56f28_row5_col3\" class=\"data row5 col3\" >387</td>\n",
       "      <td id=\"T_56f28_row5_col4\" class=\"data row5 col4\" >235</td>\n",
       "      <td id=\"T_56f28_row5_col5\" class=\"data row5 col5\" >252</td>\n",
       "    </tr>\n",
       "    <tr>\n",
       "      <th id=\"T_56f28_level0_row6\" class=\"row_heading level0 row6\" rowspan=\"2\">3</th>\n",
       "      <th id=\"T_56f28_level1_row6\" class=\"row_heading level1 row6\" >1</th>\n",
       "      <td id=\"T_56f28_row6_col0\" class=\"data row6 col0\" >259</td>\n",
       "      <td id=\"T_56f28_row6_col1\" class=\"data row6 col1\" >265</td>\n",
       "      <td id=\"T_56f28_row6_col2\" class=\"data row6 col2\" >275</td>\n",
       "      <td id=\"T_56f28_row6_col3\" class=\"data row6 col3\" >385</td>\n",
       "      <td id=\"T_56f28_row6_col4\" class=\"data row6 col4\" >248</td>\n",
       "      <td id=\"T_56f28_row6_col5\" class=\"data row6 col5\" >262</td>\n",
       "    </tr>\n",
       "    <tr>\n",
       "      <th id=\"T_56f28_level1_row7\" class=\"row_heading level1 row7\" >0</th>\n",
       "      <td id=\"T_56f28_row7_col0\" class=\"data row7 col0\" >241</td>\n",
       "      <td id=\"T_56f28_row7_col1\" class=\"data row7 col1\" >235</td>\n",
       "      <td id=\"T_56f28_row7_col2\" class=\"data row7 col2\" >225</td>\n",
       "      <td id=\"T_56f28_row7_col3\" class=\"data row7 col3\" >115</td>\n",
       "      <td id=\"T_56f28_row7_col4\" class=\"data row7 col4\" >252</td>\n",
       "      <td id=\"T_56f28_row7_col5\" class=\"data row7 col5\" >238</td>\n",
       "    </tr>\n",
       "  </tbody>\n",
       "</table>\n"
      ],
      "text/plain": [
       "<pandas.io.formats.style.Styler at 0x2afad0e0790>"
      ]
     },
     "execution_count": 67,
     "metadata": {},
     "output_type": "execute_result"
    }
   ],
   "source": [
    "pd.DataFrame(data = [data.groupby('price_range')['blue'].value_counts(), \n",
    "                     data.groupby('price_range')['dual_sim'].value_counts(),\n",
    "                     data.groupby('price_range')['four_g'].value_counts(),\n",
    "                     data.groupby('price_range')['three_g'].value_counts(),\n",
    "                     data.groupby('price_range')['touch_screen'].value_counts(),\n",
    "                     data.groupby('price_range')['wifi'].value_counts()],  \n",
    "\n",
    "             index=[\"blue\", \"dual_sim\",\"four_g\",\"Three_g\",\"touch_screen\",\"wifi\"]).T.style.background_gradient(cmap='coolwarm')"
   ]
  },
  {
   "cell_type": "markdown",
   "id": "68ec1207",
   "metadata": {},
   "source": [
    "**The following graph shows the distribution for each feature of the dataset:**"
   ]
  },
  {
   "cell_type": "code",
   "execution_count": 68,
   "id": "4f564838",
   "metadata": {
    "scrolled": true
   },
   "outputs": [
    {
     "data": {
      "image/png": "[encoded data removed]",
      "text/plain": [
       "<Figure size 1440x720 with 21 Axes>"
      ]
     },
     "metadata": {
      "needs_background": "light"
     },
     "output_type": "display_data"
    }
   ],
   "source": [
    "fig, axes = plt.subplots(3, 7,figsize=(20,10))\n",
    "axe = axes.flatten()\n",
    "color_palette = sns.color_palette(\"pastel\") + sns.color_palette(\"Set2\") + sns.color_palette(\"husl\", 25)\n",
    "\n",
    "\n",
    "for i,feature in enumerate(data.columns):\n",
    "    sns.histplot(data=data, x=feature, kde=True, ax=axe[i], color=color_palette[i])    \n",
    "plt.show()"
   ]
  },
  {
   "cell_type": "markdown",
   "id": "47612af0",
   "metadata": {},
   "source": [
    "**The following graph shows the boxplot for each feature of the dataset:**"
   ]
  },
  {
   "cell_type": "code",
   "execution_count": 69,
   "id": "aad51216",
   "metadata": {},
   "outputs": [
    {
     "data": {
      "image/png": "[encoded data removed]",
      "text/plain": [
       "<Figure size 1440x720 with 21 Axes>"
      ]
     },
     "metadata": {
      "needs_background": "light"
     },
     "output_type": "display_data"
    }
   ],
   "source": [
    "fig, axes = plt.subplots(3, 7,figsize=(20,10))\n",
    "axe = axes.flatten()\n",
    "\n",
    "for i,feature in enumerate(data.columns):\n",
    "    sns.boxplot(data=data, x=feature, ax=axe[i], color=color_palette[i])    \n",
    "plt.show()"
   ]
  },
  {
   "cell_type": "markdown",
   "id": "1c201f81",
   "metadata": {},
   "source": [
    "# 4. Feature Engineering"
   ]
  },
  {
   "cell_type": "markdown",
   "id": "6a9e9f94",
   "metadata": {},
   "source": [
    "Once we have analyzed the information in our dataset, we proceed to prepare the data to apply the prediction models."
   ]
  },
  {
   "cell_type": "code",
   "execution_count": 70,
   "id": "e1297f1c",
   "metadata": {},
   "outputs": [
    {
     "data": {
      "text/html": [
       "<div>\n",
       "<style scoped>\n",
       "    .dataframe tbody tr th:only-of-type {\n",
       "        vertical-align: middle;\n",
       "    }\n",
       "\n",
       "    .dataframe tbody tr th {\n",
       "        vertical-align: top;\n",
       "    }\n",
       "\n",
       "    .dataframe thead th {\n",
       "        text-align: right;\n",
       "    }\n",
       "</style>\n",
       "<table border=\"1\" class=\"dataframe\">\n",
       "  <thead>\n",
       "    <tr style=\"text-align: right;\">\n",
       "      <th></th>\n",
       "      <th>battery_power</th>\n",
       "      <th>blue</th>\n",
       "      <th>clock_speed</th>\n",
       "      <th>dual_sim</th>\n",
       "      <th>fc</th>\n",
       "      <th>four_g</th>\n",
       "      <th>int_memory</th>\n",
       "      <th>m_dep</th>\n",
       "      <th>mobile_wt</th>\n",
       "      <th>n_cores</th>\n",
       "      <th>...</th>\n",
       "      <th>px_height</th>\n",
       "      <th>px_width</th>\n",
       "      <th>ram</th>\n",
       "      <th>sc_h</th>\n",
       "      <th>sc_w</th>\n",
       "      <th>talk_time</th>\n",
       "      <th>three_g</th>\n",
       "      <th>touch_screen</th>\n",
       "      <th>wifi</th>\n",
       "      <th>price_range</th>\n",
       "    </tr>\n",
       "  </thead>\n",
       "  <tbody>\n",
       "  </tbody>\n",
       "</table>\n",
       "<p>0 rows × 21 columns</p>\n",
       "</div>"
      ],
      "text/plain": [
       "Empty DataFrame\n",
       "Columns: [battery_power, blue, clock_speed, dual_sim, fc, four_g, int_memory, m_dep, mobile_wt, n_cores, pc, px_height, px_width, ram, sc_h, sc_w, talk_time, three_g, touch_screen, wifi, price_range]\n",
       "Index: []\n",
       "\n",
       "[0 rows x 21 columns]"
      ]
     },
     "execution_count": 70,
     "metadata": {},
     "output_type": "execute_result"
    }
   ],
   "source": [
    "data[data.duplicated()]"
   ]
  },
  {
   "cell_type": "markdown",
   "id": "795424d2",
   "metadata": {},
   "source": [
    "**I haven't duplicate values in the data set. Now we gonna see the relation with the target variable:**"
   ]
  },
  {
   "cell_type": "code",
   "execution_count": 71,
   "id": "4950cd41",
   "metadata": {
    "scrolled": false
   },
   "outputs": [
    {
     "data": {
      "text/plain": [
       "price_range      1.000000\n",
       "ram              0.917046\n",
       "battery_power    0.200723\n",
       "px_width         0.165818\n",
       "px_height        0.148858\n",
       "int_memory       0.044435\n",
       "sc_w             0.038711\n",
       "pc               0.033599\n",
       "three_g          0.023611\n",
       "sc_h             0.022986\n",
       "fc               0.021998\n",
       "talk_time        0.021859\n",
       "blue             0.020573\n",
       "wifi             0.018785\n",
       "dual_sim         0.017444\n",
       "four_g           0.014772\n",
       "n_cores          0.004399\n",
       "m_dep            0.000853\n",
       "clock_speed     -0.006606\n",
       "mobile_wt       -0.030302\n",
       "touch_screen    -0.030411\n",
       "Name: price_range, dtype: float64"
      ]
     },
     "execution_count": 71,
     "metadata": {},
     "output_type": "execute_result"
    }
   ],
   "source": [
    "data.corr()[\"price_range\"].sort_values(ascending=False)"
   ]
  },
  {
   "cell_type": "code",
   "execution_count": 72,
   "id": "d9f9a819",
   "metadata": {},
   "outputs": [
    {
     "data": {
      "image/png": "[encoded data removed]",
      "text/plain": [
       "<Figure size 936x648 with 2 Axes>"
      ]
     },
     "metadata": {
      "needs_background": "light"
     },
     "output_type": "display_data"
    }
   ],
   "source": [
    "plt.figure(figsize=(13,9))\n",
    "sns.heatmap(data.corr(), vmax=0.8, linewidth=0.1, cmap='vlag')\n",
    "plt.show()"
   ]
  },
  {
   "cell_type": "markdown",
   "id": "259750ec",
   "metadata": {},
   "source": [
    "**Price appears to be highly correlated with RAM. In addition, clock_speed, mobile_wt and touch_screen appear to be negatively correlated, indicating that there is a relationship between them, such that as the value of one variable increases, the value of the other decreases.**"
   ]
  },
  {
   "cell_type": "markdown",
   "id": "0001bbed",
   "metadata": {},
   "source": [
    "# 5. Training and Evaluating Models"
   ]
  },
  {
   "cell_type": "code",
   "execution_count": 73,
   "id": "dcee8fa4",
   "metadata": {},
   "outputs": [
    {
     "name": "stdout",
     "output_type": "stream",
     "text": [
      "(1500, 20) (1500,) (500, 20) (500,)\n"
     ]
    }
   ],
   "source": [
    "X = data.drop('price_range',axis=1)\n",
    "y = data['price_range']\n",
    "\n",
    "X_train,X_test,y_train,y_test = train_test_split(X,y,test_size=0.25,random_state=42)\n",
    "print(X_train.shape, y_train.shape, X_test.shape, y_test.shape)"
   ]
  },
  {
   "cell_type": "markdown",
   "id": "80298399",
   "metadata": {},
   "source": [
    "**Train and Fit Models**"
   ]
  },
  {
   "cell_type": "code",
   "execution_count": 74,
   "id": "bdef7cc7",
   "metadata": {},
   "outputs": [
    {
     "name": "stderr",
     "output_type": "stream",
     "text": [
      "C:\\ProgramData\\Anaconda3\\lib\\site-packages\\sklearn\\linear_model\\_logistic.py:814: ConvergenceWarning: lbfgs failed to converge (status=1):\n",
      "STOP: TOTAL NO. of ITERATIONS REACHED LIMIT.\n",
      "\n",
      "Increase the number of iterations (max_iter) or scale the data as shown in:\n",
      "    https://scikit-learn.org/stable/modules/preprocessing.html\n",
      "Please also refer to the documentation for alternative solver options:\n",
      "    https://scikit-learn.org/stable/modules/linear_model.html#logistic-regression\n",
      "  n_iter_i = _check_optimize_result(\n"
     ]
    }
   ],
   "source": [
    "Model1 = LogisticRegression()\n",
    "Model1.fit(X_train, y_train)\n",
    "predicts1 = Model1.predict(X_test)"
   ]
  },
  {
   "cell_type": "code",
   "execution_count": 75,
   "id": "0b3ac2ca",
   "metadata": {},
   "outputs": [
    {
     "name": "stdout",
     "output_type": "stream",
     "text": [
      "Logistic Regression\n",
      "\n",
      "Accuracy test:  61.6\n",
      "\n",
      "classification report\n",
      "\n",
      "              precision    recall  f1-score   support\n",
      "\n",
      "           0       0.79      0.72      0.75       132\n",
      "           1       0.49      0.50      0.49       118\n",
      "           2       0.50      0.49      0.50       120\n",
      "           3       0.67      0.73      0.70       130\n",
      "\n",
      "    accuracy                           0.62       500\n",
      "   macro avg       0.61      0.61      0.61       500\n",
      "weighted avg       0.62      0.62      0.62       500\n",
      "\n",
      "Confusion Matrix\n"
     ]
    },
    {
     "data": {
      "text/plain": [
       "Text(0.5, 15.0, 'Predicted label')"
      ]
     },
     "execution_count": 75,
     "metadata": {},
     "output_type": "execute_result"
    },
    {
     "data": {
      "image/png": "[encoded data removed]",
      "text/plain": [
       "<Figure size 432x288 with 2 Axes>"
      ]
     },
     "metadata": {
      "needs_background": "light"
     },
     "output_type": "display_data"
    }
   ],
   "source": [
    "print(\"Logistic Regression\")\n",
    "Model1_acc = accuracy_score(y_test, predicts1)*100\n",
    "\n",
    "print(\"\\nAccuracy test: \", round(Model1_acc,2))\n",
    "\n",
    "print(\"\\nclassification report\\n\")\n",
    "report1 = classification_report(y_test, predicts1)\n",
    "print(report1)\n",
    "\n",
    "print(\"Confusion Matrix\")\n",
    "confusionmatrix1 = confusion_matrix(y_test, predicts1)\n",
    "p = sns.heatmap(pd.DataFrame(confusionmatrix1), annot=True,fmt='g')\n",
    "plt.title('Confusion matrix')\n",
    "plt.ylabel('Actual label')\n",
    "plt.xlabel('Predicted label')"
   ]
  },
  {
   "cell_type": "code",
   "execution_count": 76,
   "id": "299087e6",
   "metadata": {},
   "outputs": [],
   "source": [
    "Model2 = KNeighborsClassifier()\n",
    "Model2.fit(X_train, y_train)\n",
    "predicts2 = Model2.predict(X_test)"
   ]
  },
  {
   "cell_type": "code",
   "execution_count": 77,
   "id": "a8c09ee4",
   "metadata": {
    "scrolled": true
   },
   "outputs": [
    {
     "name": "stdout",
     "output_type": "stream",
     "text": [
      "KNeighbors Classifier_ Metrics\n",
      "\n",
      "Accuracy test:  93.2\n",
      "\n",
      "classification report\n",
      "\n",
      "              precision    recall  f1-score   support\n",
      "\n",
      "           0       0.95      0.95      0.95       132\n",
      "           1       0.89      0.93      0.91       118\n",
      "           2       0.92      0.89      0.91       120\n",
      "           3       0.96      0.95      0.95       130\n",
      "\n",
      "    accuracy                           0.93       500\n",
      "   macro avg       0.93      0.93      0.93       500\n",
      "weighted avg       0.93      0.93      0.93       500\n",
      "\n",
      "Confusion Matrix\n"
     ]
    },
    {
     "data": {
      "text/plain": [
       "Text(0.5, 15.0, 'Predicted label')"
      ]
     },
     "execution_count": 77,
     "metadata": {},
     "output_type": "execute_result"
    },
    {
     "data": {
      "image/png": "[encoded data removed]",
      "text/plain": [
       "<Figure size 432x288 with 2 Axes>"
      ]
     },
     "metadata": {
      "needs_background": "light"
     },
     "output_type": "display_data"
    }
   ],
   "source": [
    "print(\"KNeighbors Classifier_ Metrics\")\n",
    "Model2_acc = accuracy_score(y_test, predicts2)*100\n",
    "\n",
    "print(\"\\nAccuracy test: \", round(Model2_acc,2))\n",
    "\n",
    "print(\"\\nclassification report\\n\")\n",
    "report2 = classification_report(y_test, predicts2)\n",
    "print(report2)\n",
    "\n",
    "print(\"Confusion Matrix\")\n",
    "confusionmatrix2 = confusion_matrix(y_test, predicts2)\n",
    "p = sns.heatmap(pd.DataFrame(confusionmatrix2), annot=True,fmt='g')\n",
    "plt.title('Confusion matrix')\n",
    "plt.ylabel('Actual label')\n",
    "plt.xlabel('Predicted label')"
   ]
  },
  {
   "cell_type": "markdown",
   "id": "4e531eca",
   "metadata": {},
   "source": [
    "**Dimensional Reduction** (Principal Component Analysis: PCA)"
   ]
  },
  {
   "cell_type": "code",
   "execution_count": 78,
   "id": "a04cd6e9",
   "metadata": {},
   "outputs": [
    {
     "name": "stdout",
     "output_type": "stream",
     "text": [
      "\n",
      "The Importance of each column is explained by %:  [0.67043953 0.16517904]\n",
      "\n",
      "Final DataFrame\n"
     ]
    },
    {
     "data": {
      "text/html": [
       "<div>\n",
       "<style scoped>\n",
       "    .dataframe tbody tr th:only-of-type {\n",
       "        vertical-align: middle;\n",
       "    }\n",
       "\n",
       "    .dataframe tbody tr th {\n",
       "        vertical-align: top;\n",
       "    }\n",
       "\n",
       "    .dataframe thead th {\n",
       "        text-align: right;\n",
       "    }\n",
       "</style>\n",
       "<table border=\"1\" class=\"dataframe\">\n",
       "  <thead>\n",
       "    <tr style=\"text-align: right;\">\n",
       "      <th></th>\n",
       "      <th>Component1</th>\n",
       "      <th>Component2</th>\n",
       "      <th>price_range</th>\n",
       "    </tr>\n",
       "  </thead>\n",
       "  <tbody>\n",
       "    <tr>\n",
       "      <th>0</th>\n",
       "      <td>430.596294</td>\n",
       "      <td>-795.788745</td>\n",
       "      <td>1</td>\n",
       "    </tr>\n",
       "    <tr>\n",
       "      <th>1</th>\n",
       "      <td>504.985048</td>\n",
       "      <td>696.622162</td>\n",
       "      <td>2</td>\n",
       "    </tr>\n",
       "    <tr>\n",
       "      <th>2</th>\n",
       "      <td>473.330120</td>\n",
       "      <td>763.941758</td>\n",
       "      <td>2</td>\n",
       "    </tr>\n",
       "    <tr>\n",
       "      <th>3</th>\n",
       "      <td>639.822549</td>\n",
       "      <td>779.690737</td>\n",
       "      <td>2</td>\n",
       "    </tr>\n",
       "    <tr>\n",
       "      <th>4</th>\n",
       "      <td>-718.985233</td>\n",
       "      <td>382.304896</td>\n",
       "      <td>1</td>\n",
       "    </tr>\n",
       "  </tbody>\n",
       "</table>\n",
       "</div>"
      ],
      "text/plain": [
       "   Component1  Component2  price_range\n",
       "0  430.596294 -795.788745            1\n",
       "1  504.985048  696.622162            2\n",
       "2  473.330120  763.941758            2\n",
       "3  639.822549  779.690737            2\n",
       "4 -718.985233  382.304896            1"
      ]
     },
     "execution_count": 78,
     "metadata": {},
     "output_type": "execute_result"
    }
   ],
   "source": [
    "pca = PCA(n_components=2)\n",
    "principalComponents = pca.fit_transform(data)\n",
    "principalDf = pd.DataFrame(data = principalComponents, columns=['Component1','Component2'])\n",
    "print('\\nThe Importance of each column is explained by %: ',pca.explained_variance_ratio_)\n",
    "finaldata=principalDf.join(data['price_range'])\n",
    "print('\\nFinal DataFrame')\n",
    "finaldata.head()"
   ]
  },
  {
   "cell_type": "code",
   "execution_count": 79,
   "id": "72c5c702",
   "metadata": {},
   "outputs": [],
   "source": [
    "X = finaldata.drop('price_range',axis=1)\n",
    "y = finaldata['price_range']\n",
    "\n",
    "X_train,X_test,y_train,y_test = train_test_split(X,y,test_size=0.25,random_state=42)"
   ]
  },
  {
   "cell_type": "code",
   "execution_count": 80,
   "id": "cd157bfb",
   "metadata": {},
   "outputs": [],
   "source": [
    "Model1_pca = LogisticRegression()\n",
    "Model1_pca.fit(X_train, y_train)\n",
    "predicts1_pca = Model1_pca.predict(X_test)"
   ]
  },
  {
   "cell_type": "code",
   "execution_count": 81,
   "id": "bb7b91e6",
   "metadata": {},
   "outputs": [
    {
     "name": "stdout",
     "output_type": "stream",
     "text": [
      "Logistic Regression_PCA\n",
      "\n",
      "Accuracy test:  80.6\n",
      "\n",
      "classification report\n",
      "\n",
      "              precision    recall  f1-score   support\n",
      "\n",
      "           0       0.88      0.89      0.88       132\n",
      "           1       0.75      0.74      0.74       118\n",
      "           2       0.72      0.74      0.73       120\n",
      "           3       0.87      0.85      0.86       130\n",
      "\n",
      "    accuracy                           0.81       500\n",
      "   macro avg       0.80      0.80      0.80       500\n",
      "weighted avg       0.81      0.81      0.81       500\n",
      "\n",
      "\n",
      "Confusion Matrix\n"
     ]
    },
    {
     "data": {
      "text/plain": [
       "Text(0.5, 15.0, 'Predicted label')"
      ]
     },
     "execution_count": 81,
     "metadata": {},
     "output_type": "execute_result"
    },
    {
     "data": {
      "image/png": "[encoded data removed]",
      "text/plain": [
       "<Figure size 432x288 with 2 Axes>"
      ]
     },
     "metadata": {
      "needs_background": "light"
     },
     "output_type": "display_data"
    }
   ],
   "source": [
    "print(\"Logistic Regression_PCA\")\n",
    "Model1_pca_acc = accuracy_score(y_test, predicts1_pca)*100\n",
    "\n",
    "print(\"\\nAccuracy test: \", round(Model1_pca_acc,2))\n",
    "\n",
    "print(\"\\nclassification report\\n\")\n",
    "report3 = classification_report(y_test, predicts1_pca)\n",
    "print(report3)\n",
    "\n",
    "print(\"\\nConfusion Matrix\")\n",
    "confusionmatrix3 = confusion_matrix(y_test, predicts1_pca)\n",
    "p = sns.heatmap(pd.DataFrame(confusionmatrix3), annot=True,fmt='g')\n",
    "plt.title('Confusion matrix')\n",
    "plt.ylabel('Actual label')\n",
    "plt.xlabel('Predicted label')"
   ]
  },
  {
   "cell_type": "code",
   "execution_count": 82,
   "id": "89970c9a",
   "metadata": {},
   "outputs": [],
   "source": [
    "Model2_pca = KNeighborsClassifier()\n",
    "Model2_pca.fit(X_train, y_train)\n",
    "predicts2_pca = Model2_pca.predict(X_test)"
   ]
  },
  {
   "cell_type": "code",
   "execution_count": 83,
   "id": "ae8d9c49",
   "metadata": {
    "scrolled": false
   },
   "outputs": [
    {
     "name": "stdout",
     "output_type": "stream",
     "text": [
      "KNN_PCA\n",
      "\n",
      "Accuracy test:  80.0\n",
      "\n",
      "classification report\n",
      "\n",
      "              precision    recall  f1-score   support\n",
      "\n",
      "           0       0.90      0.86      0.88       132\n",
      "           1       0.71      0.75      0.73       118\n",
      "           2       0.71      0.71      0.71       120\n",
      "           3       0.86      0.87      0.87       130\n",
      "\n",
      "    accuracy                           0.80       500\n",
      "   macro avg       0.80      0.80      0.80       500\n",
      "weighted avg       0.80      0.80      0.80       500\n",
      "\n",
      "\n",
      "Confusion Matrix\n"
     ]
    },
    {
     "data": {
      "text/plain": [
       "Text(0.5, 15.0, 'Predicted label')"
      ]
     },
     "execution_count": 83,
     "metadata": {},
     "output_type": "execute_result"
    },
    {
     "data": {
      "image/png": "[encoded data removed]",
      "text/plain": [
       "<Figure size 432x288 with 2 Axes>"
      ]
     },
     "metadata": {
      "needs_background": "light"
     },
     "output_type": "display_data"
    }
   ],
   "source": [
    "print(\"KNN_PCA\\n\")\n",
    "Model2_pca_acc = accuracy_score(y_test, predicts2_pca)*100\n",
    "print(\"Accuracy test: \", round(Model2_pca_acc,2))\n",
    "\n",
    "print(\"\\nclassification report\\n\")\n",
    "report4 = classification_report(y_test, predicts2_pca)\n",
    "print(report4)\n",
    "\n",
    "print(\"\\nConfusion Matrix\")\n",
    "confusionmatrix4 = confusion_matrix(y_test, predicts2_pca)\n",
    "p = sns.heatmap(pd.DataFrame(confusionmatrix4), annot=True,fmt='g')\n",
    "plt.title('Confusion matrix')\n",
    "plt.ylabel('Actual label')\n",
    "plt.xlabel('Predicted label')"
   ]
  },
  {
   "cell_type": "markdown",
   "id": "2390a8c6",
   "metadata": {},
   "source": [
    "# 6. Conclusion"
   ]
  },
  {
   "cell_type": "code",
   "execution_count": 84,
   "id": "ad5f614e",
   "metadata": {},
   "outputs": [
    {
     "data": {
      "text/html": [
       "<div>\n",
       "<style scoped>\n",
       "    .dataframe tbody tr th:only-of-type {\n",
       "        vertical-align: middle;\n",
       "    }\n",
       "\n",
       "    .dataframe tbody tr th {\n",
       "        vertical-align: top;\n",
       "    }\n",
       "\n",
       "    .dataframe thead th {\n",
       "        text-align: right;\n",
       "    }\n",
       "</style>\n",
       "<table border=\"1\" class=\"dataframe\">\n",
       "  <thead>\n",
       "    <tr style=\"text-align: right;\">\n",
       "      <th></th>\n",
       "      <th>Model</th>\n",
       "      <th>Accuracy</th>\n",
       "    </tr>\n",
       "  </thead>\n",
       "  <tbody>\n",
       "    <tr>\n",
       "      <th>0</th>\n",
       "      <td>Logistic Regression</td>\n",
       "      <td>61.6</td>\n",
       "    </tr>\n",
       "    <tr>\n",
       "      <th>1</th>\n",
       "      <td>Logistic Regression_PCA</td>\n",
       "      <td>80.6</td>\n",
       "    </tr>\n",
       "    <tr>\n",
       "      <th>2</th>\n",
       "      <td>KNeighbors Classifier</td>\n",
       "      <td>93.2</td>\n",
       "    </tr>\n",
       "    <tr>\n",
       "      <th>3</th>\n",
       "      <td>KNeighbors Classifier_PCA</td>\n",
       "      <td>80.0</td>\n",
       "    </tr>\n",
       "  </tbody>\n",
       "</table>\n",
       "</div>"
      ],
      "text/plain": [
       "                       Model  Accuracy\n",
       "0        Logistic Regression      61.6\n",
       "1    Logistic Regression_PCA      80.6\n",
       "2      KNeighbors Classifier      93.2\n",
       "3  KNeighbors Classifier_PCA      80.0"
      ]
     },
     "execution_count": 84,
     "metadata": {},
     "output_type": "execute_result"
    }
   ],
   "source": [
    "conclusion = pd.DataFrame({\n",
    "    'Model': ['Logistic Regression','Logistic Regression_PCA', 'KNeighbors Classifier', 'KNeighbors Classifier_PCA'],\n",
    "    'Accuracy': [Model1_acc,Model1_pca_acc,Model2_acc,Model2_pca_acc,]})\n",
    "\n",
    "conclusion.head()"
   ]
  },
  {
   "cell_type": "markdown",
   "id": "b9eaf430",
   "metadata": {},
   "source": [
    "The Mobile prices dataset is a dataset to which the logistic regression and KNeighbors Classifier models were applied. It uses PCA; however, from the table above it is clear that this technique does not benefit the KNN model, as it reduces the accuracy, and logistic regression increases it; however, it is not as high as the accuracy for the KNN model without PCA. In conclusion, the model that best fits the data set and has a higher accuracy is the KNN model without applying the PCA technique."
   ]
  }
 ],
 "metadata": {
  "kernelspec": {
   "display_name": "Python 3 (ipykernel)",
   "language": "python",
   "name": "python3"
  },
  "language_info": {
   "codemirror_mode": {
    "name": "ipython",
    "version": 3
   },
   "file_extension": ".py",
   "mimetype": "text/x-python",
   "name": "python",
   "nbconvert_exporter": "python",
   "pygments_lexer": "ipython3",
   "version": "3.9.12"
  }
 },
 "nbformat": 4,
 "nbformat_minor": 5
}
